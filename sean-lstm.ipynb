{
 "cells": [
  {
   "cell_type": "code",
   "execution_count": null,
   "id": "b03186c9",
   "metadata": {
    "ExecuteTime": {
     "end_time": "2023-08-23T12:36:01.787888Z",
     "start_time": "2023-08-23T12:36:01.623457900Z"
    }
   },
   "outputs": [],
   "source": [
    "#Python libraries\n",
    "import matplotlib.pyplot as plt \n",
    "import MetaTrader5 as mt5\n",
    "import tensorflow as tf\n",
    "import numpy as np\n",
    "import pandas as pd\n",
    "import tf2onnx\n",
    "from sklearn.model_selection import train_test_split\n",
    "from sys import argv"
   ]
  },
  {
   "cell_type": "code",
   "execution_count": null,
   "id": "bb735ef2",
   "metadata": {
    "ExecuteTime": {
     "end_time": "2023-08-23T12:36:01.787888Z",
     "start_time": "2023-08-23T12:36:01.641908200Z"
    }
   },
   "outputs": [],
   "source": [
    "#check tensorflow version\n",
    "print(tf.__version__)"
   ]
  },
  {
   "cell_type": "code",
   "execution_count": null,
   "id": "8478f831",
   "metadata": {
    "ExecuteTime": {
     "end_time": "2023-08-23T12:36:01.787888Z",
     "start_time": "2023-08-23T12:36:01.656217Z"
    }
   },
   "outputs": [],
   "source": [
    "#check GPU support\n",
    "print(tf.config.list_physical_devices('GPU'))"
   ]
  },
  {
   "cell_type": "code",
   "execution_count": null,
   "id": "7dd9e1b6",
   "metadata": {
    "ExecuteTime": {
     "end_time": "2023-08-23T12:36:01.787888Z",
     "start_time": "2023-08-23T12:36:01.680612500Z"
    }
   },
   "outputs": [],
   "source": [
    "#initialize MetaTrader5 for history data\n",
    "if not mt5.initialize():\n",
    "    print(\"initialize() failed, error code =\",mt5.last_error())\n",
    "    quit()"
   ]
  },
  {
   "cell_type": "code",
   "execution_count": null,
   "id": "573c71fe",
   "metadata": {
    "ExecuteTime": {
     "end_time": "2023-08-23T12:36:01.787888Z",
     "start_time": "2023-08-23T12:36:01.689679900Z"
    }
   },
   "outputs": [],
   "source": [
    "terminal_info=mt5.terminal_info()"
   ]
  },
  {
   "cell_type": "code",
   "execution_count": null,
   "id": "aed54c12",
   "metadata": {
    "ExecuteTime": {
     "end_time": "2023-08-23T12:36:01.787888Z",
     "start_time": "2023-08-23T12:36:01.702678900Z"
    }
   },
   "outputs": [],
   "source": [
    "#show file path\n",
    "file_path=terminal_info.data_path+\"\\\\MQL5\\\\Files\\\\\""
   ]
  },
  {
   "cell_type": "code",
   "execution_count": null,
   "id": "e24af5c6",
   "metadata": {
    "ExecuteTime": {
     "end_time": "2023-08-23T12:36:01.787888Z",
     "start_time": "2023-08-23T12:36:01.717682100Z"
    }
   },
   "outputs": [],
   "source": [
    "#data path to save the model\n",
    "data_path=argv[0]\n",
    "last_index=data_path.rfind(\"\\\\\")+1\n",
    "data_path=data_path[0:last_index]"
   ]
  },
  {
   "cell_type": "code",
   "execution_count": null,
   "id": "1e8bc7c8",
   "metadata": {
    "ExecuteTime": {
     "end_time": "2023-08-23T12:36:01.788869600Z",
     "start_time": "2023-08-23T12:36:01.733231300Z"
    }
   },
   "outputs": [],
   "source": [
    "#set start and end dates for history data\n",
    "from datetime import timedelta,datetime\n",
    "end_date = datetime.now()\n",
    "start_date = end_date - timedelta(days=120)\n",
    "\n",
    "#print start and end dates\n",
    "print(\"data start date=\",start_date)\n",
    "print(\"data end date=\",end_date)"
   ]
  },
  {
   "cell_type": "code",
   "execution_count": null,
   "id": "094cebaa",
   "metadata": {
    "ExecuteTime": {
     "end_time": "2023-08-23T12:36:01.788869600Z",
     "start_time": "2023-08-23T12:36:01.749713100Z"
    }
   },
   "outputs": [],
   "source": [
    "#get EURUSD rates (1H) from start_date to end_date\n",
    "eurusd_rates = mt5.copy_rates_range(\"EURUSD\", mt5.TIMEFRAME_H1, start_date, end_date)"
   ]
  },
  {
   "cell_type": "code",
   "execution_count": null,
   "id": "88016266",
   "metadata": {
    "ExecuteTime": {
     "end_time": "2023-08-23T12:36:01.788869600Z",
     "start_time": "2023-08-23T12:36:01.763667700Z"
    }
   },
   "outputs": [],
   "source": [
    "#check\n",
    "print(eurusd_rates)"
   ]
  },
  {
   "cell_type": "code",
   "execution_count": null,
   "id": "4b8aea2f",
   "metadata": {
    "ExecuteTime": {
     "end_time": "2023-08-23T12:36:01.823652700Z",
     "start_time": "2023-08-23T12:36:01.778883500Z"
    }
   },
   "outputs": [],
   "source": [
    "#create dataframe\n",
    "df = pd.DataFrame(eurusd_rates)"
   ]
  },
  {
   "cell_type": "code",
   "execution_count": null,
   "id": "4b7b2a70",
   "metadata": {
    "ExecuteTime": {
     "end_time": "2023-08-23T12:36:01.830068600Z",
     "start_time": "2023-08-23T12:36:01.794864200Z"
    }
   },
   "outputs": [],
   "source": [
    "#show dataframe head\n",
    "df.head()"
   ]
  },
  {
   "cell_type": "code",
   "execution_count": null,
   "id": "bf186d0d",
   "metadata": {
    "ExecuteTime": {
     "end_time": "2023-08-23T12:36:01.870578100Z",
     "start_time": "2023-08-23T12:36:01.810902200Z"
    }
   },
   "outputs": [],
   "source": [
    "#show dataframe tail\n",
    "df.tail()"
   ]
  },
  {
   "cell_type": "code",
   "execution_count": null,
   "id": "6a668bf4",
   "metadata": {
    "ExecuteTime": {
     "end_time": "2023-08-23T12:36:01.875655100Z",
     "start_time": "2023-08-23T12:36:01.827073200Z"
    }
   },
   "outputs": [],
   "source": [
    "#show dataframe shape (the number of rows and columns in the data set)\n",
    "df.shape"
   ]
  },
  {
   "cell_type": "code",
   "execution_count": null,
   "id": "645e5e1f",
   "metadata": {
    "ExecuteTime": {
     "end_time": "2023-08-23T12:36:01.895085100Z",
     "start_time": "2023-08-23T12:36:01.843039300Z"
    }
   },
   "outputs": [],
   "source": [
    "#prepare close prices only\n",
    "data = df.filter(['close']).values"
   ]
  },
  {
   "cell_type": "code",
   "execution_count": null,
   "id": "600e82f5",
   "metadata": {
    "ExecuteTime": {
     "end_time": "2023-08-23T12:36:02.077975200Z",
     "start_time": "2023-08-23T12:36:01.857547600Z"
    }
   },
   "outputs": [],
   "source": [
    "#show close prices\n",
    "plt.figure(figsize = (18,10))\n",
    "plt.plot(data,'b',label = 'Original')\n",
    "plt.xlabel(\"Hours\")\n",
    "plt.xticks(fontsize=13)\n",
    "plt.ylabel(\"Price\")\n",
    "plt.yticks(fontsize=13)\n",
    "plt.title(\"EURUSD_H1\")\n",
    "plt.legend(fontsize=18)"
   ]
  },
  {
   "cell_type": "code",
   "execution_count": null,
   "id": "c54d194e",
   "metadata": {
    "ExecuteTime": {
     "end_time": "2023-08-23T12:36:02.078975600Z",
     "start_time": "2023-08-23T12:36:02.030314700Z"
    }
   },
   "outputs": [],
   "source": [
    "#scale data using MinMaxScaler\n",
    "from sklearn.preprocessing import MinMaxScaler\n",
    "scaler=MinMaxScaler(feature_range=(0,1))\n",
    "scaled_data = scaler.fit_transform(data)"
   ]
  },
  {
   "cell_type": "code",
   "execution_count": null,
   "id": "15ce0837",
   "metadata": {
    "ExecuteTime": {
     "end_time": "2023-08-23T12:36:02.078975600Z",
     "start_time": "2023-08-23T12:36:02.044758800Z"
    }
   },
   "outputs": [],
   "source": [
    "#training size is 80% of the data\n",
    "training_size = int(len(scaled_data)*0.80) \n",
    "print(\"training size:\",training_size)"
   ]
  },
  {
   "cell_type": "code",
   "execution_count": null,
   "id": "5c95e7b2",
   "metadata": {
    "ExecuteTime": {
     "end_time": "2023-08-23T12:36:02.079976300Z",
     "start_time": "2023-08-23T12:36:02.060601900Z"
    }
   },
   "outputs": [],
   "source": [
    "#create train data and check size\n",
    "train_data_initial = scaled_data[0:training_size,:]\n",
    "print(len(train_data_initial))"
   ]
  },
  {
   "cell_type": "code",
   "execution_count": null,
   "id": "15051d5e",
   "metadata": {
    "ExecuteTime": {
     "end_time": "2023-08-23T12:36:02.184758800Z",
     "start_time": "2023-08-23T12:36:02.077975200Z"
    }
   },
   "outputs": [],
   "source": [
    "#create test data and check size\n",
    "test_data_initial= scaled_data[training_size:,:1]\n",
    "print(len(test_data_initial))"
   ]
  },
  {
   "cell_type": "code",
   "execution_count": null,
   "id": "0c7cbf8e",
   "metadata": {
    "ExecuteTime": {
     "end_time": "2023-08-23T12:36:02.213763100Z",
     "start_time": "2023-08-23T12:36:02.093246100Z"
    }
   },
   "outputs": [],
   "source": [
    "#split a univariate sequence into samples\n",
    "def split_sequence(sequence, n_steps):\n",
    "    X, y = list(), list()\n",
    "    for i in range(len(sequence)):\n",
    "       #find the end of this pattern\n",
    "       end_ix = i + n_steps\n",
    "       #check if we are beyond the sequence\n",
    "       if end_ix > len(sequence)-1:\n",
    "          break\n",
    "       #gather input and output parts of the pattern\n",
    "       seq_x, seq_y = sequence[i:end_ix], sequence[end_ix]\n",
    "       X.append(seq_x)\n",
    "       y.append(seq_y)\n",
    "    return np.array(X), np.array(y)"
   ]
  },
  {
   "cell_type": "code",
   "execution_count": null,
   "id": "d4904b25",
   "metadata": {
    "ExecuteTime": {
     "end_time": "2023-08-23T12:36:02.213763100Z",
     "start_time": "2023-08-23T12:36:02.110251600Z"
    }
   },
   "outputs": [],
   "source": [
    "#split into samples\n",
    "time_step = 120\n",
    "x_train, y_train = split_sequence(train_data_initial, time_step)\n",
    "x_test, y_test = split_sequence(test_data_initial, time_step)"
   ]
  },
  {
   "cell_type": "code",
   "execution_count": null,
   "id": "048ed671",
   "metadata": {
    "ExecuteTime": {
     "end_time": "2023-08-23T12:36:02.214763Z",
     "start_time": "2023-08-23T12:36:02.125759600Z"
    }
   },
   "outputs": [],
   "source": [
    "#reshape input to be [samples, time steps, features] which is required for LSTM\n",
    "x_train =x_train.reshape(x_train.shape[0],x_train.shape[1],1)\n",
    "x_test = x_test.reshape(x_test.shape[0],x_test.shape[1],1)"
   ]
  },
  {
   "cell_type": "code",
   "execution_count": null,
   "id": "b518135e",
   "metadata": {
    "ExecuteTime": {
     "end_time": "2023-08-23T12:36:02.275531100Z",
     "start_time": "2023-08-23T12:36:02.140759300Z"
    }
   },
   "outputs": [],
   "source": [
    "#show shape of train data\n",
    "x_train.shape"
   ]
  },
  {
   "cell_type": "code",
   "execution_count": null,
   "id": "63c61cd8",
   "metadata": {
    "ExecuteTime": {
     "end_time": "2023-08-23T12:36:02.276531300Z",
     "start_time": "2023-08-23T12:36:02.156759700Z"
    }
   },
   "outputs": [],
   "source": [
    "#show shape of test data\n",
    "x_test.shape"
   ]
  },
  {
   "cell_type": "code",
   "execution_count": null,
   "id": "1a788a03",
   "metadata": {
    "ExecuteTime": {
     "end_time": "2023-08-23T12:36:02.278531600Z",
     "start_time": "2023-08-23T12:36:02.171759600Z"
    }
   },
   "outputs": [],
   "source": [
    "#import keras libraries for the model\n",
    "import math\n",
    "from keras.models import Sequential\n",
    "from keras.layers import Dense,Activation,Conv1D,MaxPooling1D,Dropout\n",
    "from keras.layers import LSTM\n",
    "# from keras.utils.vis_utils import plot_model\n",
    "from keras.utils import plot_model\n",
    "from keras.metrics import RootMeanSquaredError as rmse\n",
    "from keras import optimizers"
   ]
  },
  {
   "cell_type": "code",
   "execution_count": null,
   "id": "98161d4f",
   "metadata": {
    "ExecuteTime": {
     "end_time": "2023-08-23T12:36:02.517066600Z",
     "start_time": "2023-08-23T12:36:02.189759500Z"
    }
   },
   "outputs": [],
   "source": [
    "#define the model\n",
    "model = Sequential()\n",
    "model.add(Conv1D(filters=256, kernel_size=2,activation='relu',padding = 'same',input_shape=(120,1)))\n",
    "model.add(MaxPooling1D(pool_size=2))\n",
    "model.add(LSTM(100, return_sequences = True))\n",
    "model.add(Dropout(0.3))\n",
    "model.add(LSTM(100, return_sequences = False))\n",
    "model.add(Dropout(0.3))\n",
    "model.add(Dense(units=1, activation = 'sigmoid'))\n",
    "model.compile(optimizer='adam', loss= 'mse' , metrics = [rmse()])"
   ]
  },
  {
   "cell_type": "code",
   "execution_count": null,
   "id": "f5287eca",
   "metadata": {
    "ExecuteTime": {
     "end_time": "2023-08-23T12:36:02.575980Z",
     "start_time": "2023-08-23T12:36:02.517066600Z"
    }
   },
   "outputs": [],
   "source": [
    "#show model\n",
    "model.summary()"
   ]
  },
  {
   "cell_type": "code",
   "execution_count": null,
   "id": "8ad9c7a7",
   "metadata": {
    "ExecuteTime": {
     "end_time": "2023-08-23T12:39:53.794448600Z",
     "start_time": "2023-08-23T12:36:04.189067300Z"
    }
   },
   "outputs": [],
   "source": [
    "#measure time\n",
    "import time \n",
    "time_calc_start = time.time()\n",
    "\n",
    "#fit model with 300 epochs\n",
    "history=model.fit(x_train,y_train,epochs=50,validation_data=(x_test,y_test),batch_size=32,verbose=2)\n",
    "\n",
    "#calculate time\n",
    "fit_time_seconds = time.time() - time_calc_start\n",
    "print(\"fit time =\",fit_time_seconds,\" seconds.\")"
   ]
  },
  {
   "cell_type": "code",
   "execution_count": null,
   "id": "02dda7f2",
   "metadata": {
    "ExecuteTime": {
     "end_time": "2023-08-23T12:40:00.455657800Z",
     "start_time": "2023-08-23T12:40:00.444656700Z"
    }
   },
   "outputs": [],
   "source": [
    "#show training history keys\n",
    "history.history.keys()"
   ]
  },
  {
   "cell_type": "code",
   "execution_count": null,
   "id": "82e25e8a",
   "metadata": {
    "ExecuteTime": {
     "end_time": "2023-08-23T12:40:01.597730100Z",
     "start_time": "2023-08-23T12:40:01.397861600Z"
    }
   },
   "outputs": [],
   "source": [
    "#show iteration-loss graph for training and validation\n",
    "plt.figure(figsize = (18,10))\n",
    "plt.plot(history.history['loss'],label='Training Loss',color='b')\n",
    "plt.plot(history.history['val_loss'],label='Validation-loss',color='g')\n",
    "plt.xlabel(\"Iteration\")\n",
    "plt.ylabel(\"Loss\")\n",
    "plt.xticks(fontsize=13)\n",
    "plt.yticks(fontsize=13)\n",
    "plt.title(\"LOSS\")\n",
    "plt.legend(fontsize=18)"
   ]
  },
  {
   "cell_type": "code",
   "execution_count": null,
   "id": "ba7d32af",
   "metadata": {
    "ExecuteTime": {
     "end_time": "2023-08-23T12:40:04.515254Z",
     "start_time": "2023-08-23T12:40:04.337727700Z"
    }
   },
   "outputs": [],
   "source": [
    "#show iteration-rmse graph for training and validation\n",
    "plt.figure(figsize = (18,10))\n",
    "plt.plot(history.history['root_mean_squared_error'],label='Training RMSE',color='b')\n",
    "plt.plot(history.history['val_root_mean_squared_error'],label='Validation-RMSE',color='g')\n",
    "plt.xlabel(\"Iteration\")\n",
    "plt.ylabel(\"RMSE\")\n",
    "plt.xticks(fontsize=13)\n",
    "plt.yticks(fontsize=13)\n",
    "plt.title(\"RMSE\")\n",
    "plt.legend(fontsize=18)"
   ]
  },
  {
   "cell_type": "code",
   "execution_count": null,
   "id": "0f8a2952",
   "metadata": {
    "ExecuteTime": {
     "end_time": "2023-08-23T12:40:09.613437600Z",
     "start_time": "2023-08-23T12:40:08.547163900Z"
    }
   },
   "outputs": [],
   "source": [
    "#evaluate training data\n",
    "model.evaluate(x_train,y_train, batch_size = 32)"
   ]
  },
  {
   "cell_type": "code",
   "execution_count": null,
   "id": "6e12f14f",
   "metadata": {
    "ExecuteTime": {
     "end_time": "2023-08-23T12:40:10.285762300Z",
     "start_time": "2023-08-23T12:40:10.033353700Z"
    }
   },
   "outputs": [],
   "source": [
    "#evaluate testing data\n",
    "model.evaluate(x_test,y_test, batch_size = 32)"
   ]
  },
  {
   "cell_type": "code",
   "execution_count": null,
   "id": "565eaa74",
   "metadata": {
    "ExecuteTime": {
     "end_time": "2023-08-23T12:40:12.233662700Z",
     "start_time": "2023-08-23T12:40:10.714355600Z"
    }
   },
   "outputs": [],
   "source": [
    "#prediction using training data\n",
    "train_predict = model.predict(x_train)\n",
    "plot_y_train = y_train.reshape(-1,1)"
   ]
  },
  {
   "cell_type": "code",
   "execution_count": null,
   "id": "134e2a4a",
   "metadata": {
    "ExecuteTime": {
     "end_time": "2023-08-23T12:40:12.391664300Z",
     "start_time": "2023-08-23T12:40:12.236692400Z"
    }
   },
   "outputs": [],
   "source": [
    "#show actual vs predicted (training) graph\n",
    "plt.figure(figsize=(18,10))\n",
    "plt.plot(scaler.inverse_transform(plot_y_train),color = 'b', label = 'Original')\n",
    "plt.plot(scaler.inverse_transform(train_predict),color='red', label = 'Predicted')\n",
    "plt.title(\"Prediction Graph Using Training Data\")\n",
    "plt.xlabel(\"Hours\")\n",
    "plt.ylabel(\"Price\")\n",
    "plt.xticks(fontsize=13)\n",
    "plt.yticks(fontsize=13)\n",
    "plt.legend(fontsize=18)\n",
    "plt.show()"
   ]
  },
  {
   "cell_type": "code",
   "execution_count": null,
   "id": "90eef99a",
   "metadata": {
    "ExecuteTime": {
     "end_time": "2023-08-23T12:40:14.449765800Z",
     "start_time": "2023-08-23T12:40:14.227705200Z"
    }
   },
   "outputs": [],
   "source": [
    "#prediction using testing data\n",
    "test_predict = model.predict(x_test)\n",
    "plot_y_test = y_test.reshape(-1,1)"
   ]
  },
  {
   "cell_type": "code",
   "execution_count": null,
   "id": "bee74a23",
   "metadata": {
    "ExecuteTime": {
     "end_time": "2023-08-23T12:40:15.150472900Z",
     "start_time": "2023-08-23T12:40:15.132472400Z"
    }
   },
   "outputs": [],
   "source": [
    "#calculate metrics\n",
    "from sklearn import metrics\n",
    "from sklearn.metrics import r2_score\n",
    "#transform data to real values\n",
    "value1=scaler.inverse_transform(plot_y_test)\n",
    "value2=scaler.inverse_transform(test_predict)\n",
    "#calc score\n",
    "score = np.sqrt(metrics.mean_squared_error(value1,value2))\n",
    "print(\"RMSE         : {}\".format(score))\n",
    "print(\"MSE          :\", metrics.mean_squared_error(value1,value2))\n",
    "print(\"R2 score     :\",metrics.r2_score(value1,value2))"
   ]
  },
  {
   "cell_type": "code",
   "execution_count": null,
   "id": "491535ff",
   "metadata": {
    "ExecuteTime": {
     "end_time": "2023-08-23T12:40:17.275528200Z",
     "start_time": "2023-08-23T12:40:17.113061900Z"
    }
   },
   "outputs": [],
   "source": [
    "#show actual vs predicted (testing) graph\n",
    "plt.figure(figsize=(18,10))\n",
    "plt.plot(scaler.inverse_transform(plot_y_test),color = 'b',  label = 'Original')\n",
    "plt.plot(scaler.inverse_transform(test_predict),color='g', label = 'Predicted')\n",
    "plt.title(\"Prediction Graph Using Testing Data\")\n",
    "plt.xlabel(\"Hours\")\n",
    "plt.ylabel(\"Price\")\n",
    "plt.xticks(fontsize=13)\n",
    "plt.yticks(fontsize=13)\n",
    "plt.legend(fontsize=18)\n",
    "plt.show()"
   ]
  },
  {
   "cell_type": "code",
   "execution_count": null,
   "id": "0e121ef4",
   "metadata": {
    "ExecuteTime": {
     "end_time": "2023-08-23T12:40:19.852152200Z",
     "start_time": "2023-08-23T12:40:18.726089300Z"
    }
   },
   "outputs": [],
   "source": [
    "# save model to ONNX\n",
    "# Will add code to save model to use for live prediction / trading :)"
   ]
  },
  {
   "cell_type": "code",
   "execution_count": null,
   "id": "10e48ba7",
   "metadata": {
    "ExecuteTime": {
     "end_time": "2023-08-23T12:40:20.883688800Z",
     "start_time": "2023-08-23T12:40:20.854069700Z"
    }
   },
   "outputs": [],
   "source": [
    "# finish\n",
    "mt5.shutdown()"
   ]
  },
  {
   "cell_type": "code",
   "execution_count": null,
   "id": "73459f15cf6fc33c",
   "metadata": {
    "collapsed": false
   },
   "outputs": [],
   "source": []
  }
 ],
 "metadata": {
  "kernelspec": {
   "display_name": "Python 3 (ipykernel)",
   "language": "python",
   "name": "python3"
  },
  "language_info": {
   "codemirror_mode": {
    "name": "ipython",
    "version": 3
   },
   "file_extension": ".py",
   "mimetype": "text/x-python",
   "name": "python",
   "nbconvert_exporter": "python",
   "pygments_lexer": "ipython3",
   "version": "3.10.14"
  }
 },
 "nbformat": 4,
 "nbformat_minor": 5
}
